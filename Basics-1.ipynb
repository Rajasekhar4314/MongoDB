{
 "cells": [
  {
   "cell_type": "code",
   "execution_count": 1,
   "metadata": {},
   "outputs": [],
   "source": [
    "import pymongo"
   ]
  },
  {
   "cell_type": "code",
   "execution_count": 2,
   "metadata": {},
   "outputs": [],
   "source": [
    "dbconn = pymongo.MongoClient(\"mongodb://localhost:27017/\")"
   ]
  },
  {
   "cell_type": "code",
   "execution_count": 3,
   "metadata": {},
   "outputs": [],
   "source": [
    "dbname = \"ineuron\""
   ]
  },
  {
   "cell_type": "code",
   "execution_count": 4,
   "metadata": {},
   "outputs": [],
   "source": [
    "db = dbconn[dbname]\n"
   ]
  },
  {
   "cell_type": "code",
   "execution_count": 5,
   "metadata": {},
   "outputs": [],
   "source": [
    "collection = db[\"Bigdata-1\"]"
   ]
  },
  {
   "cell_type": "code",
   "execution_count": 6,
   "metadata": {},
   "outputs": [],
   "source": [
    "collection2 = db[\"Bigdata2\"]"
   ]
  },
  {
   "cell_type": "code",
   "execution_count": 133,
   "metadata": {},
   "outputs": [
    {
     "data": {
      "text/plain": [
       "<bound method Database.list_collection_names of Database(MongoClient(host=['localhost:27017'], document_class=dict, tz_aware=False, connect=True), 'ineuron')>"
      ]
     },
     "execution_count": 133,
     "metadata": {},
     "output_type": "execute_result"
    }
   ],
   "source": [
    "db.list_collection_names"
   ]
  },
  {
   "cell_type": "code",
   "execution_count": 7,
   "metadata": {},
   "outputs": [
    {
     "data": {
      "text/plain": [
       "<bound method Database.get_collection of Database(MongoClient(host=['localhost:27017'], document_class=dict, tz_aware=False, connect=True), 'ineuron')>"
      ]
     },
     "execution_count": 7,
     "metadata": {},
     "output_type": "execute_result"
    }
   ],
   "source": [
    "db.get_collection"
   ]
  },
  {
   "cell_type": "code",
   "execution_count": 18,
   "metadata": {},
   "outputs": [],
   "source": [
    "x= db.list_collection_names()"
   ]
  },
  {
   "cell_type": "code",
   "execution_count": 17,
   "metadata": {},
   "outputs": [],
   "source": [
    "collection.drop()"
   ]
  },
  {
   "cell_type": "code",
   "execution_count": 1,
   "metadata": {},
   "outputs": [
    {
     "ename": "NameError",
     "evalue": "name 'dbconn' is not defined",
     "output_type": "error",
     "traceback": [
      "\u001b[0;31m---------------------------------------------------------------------------\u001b[0m",
      "\u001b[0;31mNameError\u001b[0m                                 Traceback (most recent call last)",
      "Cell \u001b[0;32mIn[1], line 1\u001b[0m\n\u001b[0;32m----> 1\u001b[0m \u001b[43mdbconn\u001b[49m\u001b[38;5;241m.\u001b[39mlist_database_names()\n",
      "\u001b[0;31mNameError\u001b[0m: name 'dbconn' is not defined"
     ]
    }
   ],
   "source": [
    "dbconn.list_database_names()"
   ]
  },
  {
   "cell_type": "code",
   "execution_count": 21,
   "metadata": {},
   "outputs": [],
   "source": [
    "collection1 = db[\"Bigdata1\"]"
   ]
  },
  {
   "cell_type": "code",
   "execution_count": 22,
   "metadata": {},
   "outputs": [
    {
     "data": {
      "text/plain": [
       "<pymongo.results.InsertOneResult at 0x7fa0a6cda100>"
      ]
     },
     "execution_count": 22,
     "metadata": {},
     "output_type": "execute_result"
    }
   ],
   "source": [
    "collection1.insert_one({\"name\":\"jaya\",\n",
    "\"course_name\":\"big-data-bootcamp\",\n",
    "\"designation\":\"data engineer\",\n",
    "\"salary\":\"50k\"})"
   ]
  },
  {
   "cell_type": "code",
   "execution_count": 23,
   "metadata": {},
   "outputs": [],
   "source": [
    "collection.drop()"
   ]
  },
  {
   "cell_type": "code",
   "execution_count": 24,
   "metadata": {},
   "outputs": [
    {
     "data": {
      "text/plain": [
       "Collection(Database(MongoClient(host=['localhost:27017'], document_class=dict, tz_aware=False, connect=True), 'ineuron'), 'Bigdata-1')"
      ]
     },
     "execution_count": 24,
     "metadata": {},
     "output_type": "execute_result"
    }
   ],
   "source": [
    "collection"
   ]
  },
  {
   "cell_type": "code",
   "execution_count": 25,
   "metadata": {},
   "outputs": [],
   "source": [
    "my_row = {'Serial No': '9998',\n",
    " 'GRE Score': '337',\n",
    " 'TOEFL Score': '118',\n",
    " 'University Rating': '4',\n",
    " 'SOP': '4.5',\n",
    " 'LOR': '4.5',\n",
    " 'CGPA': '9.65',\n",
    " 'Research': '1',\n",
    " 'Chance of Admit': '0.92'}"
   ]
  },
  {
   "cell_type": "code",
   "execution_count": 26,
   "metadata": {},
   "outputs": [],
   "source": [
    "col = collection1.insert_one(my_row)"
   ]
  },
  {
   "cell_type": "code",
   "execution_count": 28,
   "metadata": {},
   "outputs": [
    {
     "data": {
      "text/plain": [
       "ObjectId('6391a334fc6995815c1f4035')"
      ]
     },
     "execution_count": 28,
     "metadata": {},
     "output_type": "execute_result"
    }
   ],
   "source": [
    "col.inserted_id"
   ]
  },
  {
   "cell_type": "code",
   "execution_count": 29,
   "metadata": {},
   "outputs": [],
   "source": [
    "res = collection1.find()"
   ]
  },
  {
   "cell_type": "code",
   "execution_count": 30,
   "metadata": {},
   "outputs": [
    {
     "data": {
      "text/plain": [
       "<pymongo.cursor.Cursor at 0x7fa0a54f7040>"
      ]
     },
     "execution_count": 30,
     "metadata": {},
     "output_type": "execute_result"
    }
   ],
   "source": [
    "res"
   ]
  },
  {
   "cell_type": "code",
   "execution_count": 31,
   "metadata": {},
   "outputs": [
    {
     "name": "stdout",
     "output_type": "stream",
     "text": [
      "{'_id': ObjectId('6391a26bfc6995815c1f4034'), 'name': 'jaya', 'course_name': 'big-data-bootcamp', 'designation': 'data engineer', 'salary': '50k'}\n",
      "{'_id': ObjectId('6391a334fc6995815c1f4035'), 'Serial No': '9998', 'GRE Score': '337', 'TOEFL Score': '118', 'University Rating': '4', 'SOP': '4.5', 'LOR': '4.5', 'CGPA': '9.65', 'Research': '1', 'Chance of Admit': '0.92'}\n"
     ]
    }
   ],
   "source": [
    "for i in res:\n",
    "    print(i)"
   ]
  },
  {
   "cell_type": "code",
   "execution_count": 32,
   "metadata": {},
   "outputs": [],
   "source": [
    "#list of document\n",
    "my_rows=[\n",
    "    {'Serial No': '9995',\n",
    " 'GRE Score': '337',\n",
    " 'TOEFL Score': '118',\n",
    " 'University Rating': '4',\n",
    " 'SOP': '4.5',\n",
    " 'LOR': '4.5',\n",
    " 'CGPA': '9.65',\n",
    " 'Research': '1',\n",
    " 'Chance of Admit': '0.92'},\n",
    "\n",
    " {'Serial No': '1000',\n",
    " 'GRE Score': '310',\n",
    " 'TOEFL Score': '100',\n",
    " 'University Rating': '2',\n",
    " 'SOP': '4.2',\n",
    " 'LOR': '3.5',\n",
    " 'CGPA': '9.00',\n",
    " 'Research': '0',\n",
    " 'Chance of Admit': '0.70'}] \n"
   ]
  },
  {
   "cell_type": "code",
   "execution_count": 33,
   "metadata": {},
   "outputs": [
    {
     "data": {
      "text/plain": [
       "[{'Serial No': '9995',\n",
       "  'GRE Score': '337',\n",
       "  'TOEFL Score': '118',\n",
       "  'University Rating': '4',\n",
       "  'SOP': '4.5',\n",
       "  'LOR': '4.5',\n",
       "  'CGPA': '9.65',\n",
       "  'Research': '1',\n",
       "  'Chance of Admit': '0.92'},\n",
       " {'Serial No': '1000',\n",
       "  'GRE Score': '310',\n",
       "  'TOEFL Score': '100',\n",
       "  'University Rating': '2',\n",
       "  'SOP': '4.2',\n",
       "  'LOR': '3.5',\n",
       "  'CGPA': '9.00',\n",
       "  'Research': '0',\n",
       "  'Chance of Admit': '0.70'}]"
      ]
     },
     "execution_count": 33,
     "metadata": {},
     "output_type": "execute_result"
    }
   ],
   "source": [
    "my_rows"
   ]
  },
  {
   "cell_type": "code",
   "execution_count": 34,
   "metadata": {},
   "outputs": [
    {
     "data": {
      "text/plain": [
       "<pymongo.results.InsertManyResult at 0x7fa0c0676550>"
      ]
     },
     "execution_count": 34,
     "metadata": {},
     "output_type": "execute_result"
    }
   ],
   "source": [
    "collection1.insert_many(my_rows)"
   ]
  },
  {
   "cell_type": "code",
   "execution_count": 35,
   "metadata": {},
   "outputs": [],
   "source": [
    "res = collection1.find()"
   ]
  },
  {
   "cell_type": "code",
   "execution_count": 36,
   "metadata": {},
   "outputs": [
    {
     "name": "stdout",
     "output_type": "stream",
     "text": [
      "{'_id': ObjectId('6391a26bfc6995815c1f4034'), 'name': 'jaya', 'course_name': 'big-data-bootcamp', 'designation': 'data engineer', 'salary': '50k'}\n",
      "{'_id': ObjectId('6391a334fc6995815c1f4035'), 'Serial No': '9998', 'GRE Score': '337', 'TOEFL Score': '118', 'University Rating': '4', 'SOP': '4.5', 'LOR': '4.5', 'CGPA': '9.65', 'Research': '1', 'Chance of Admit': '0.92'}\n",
      "{'_id': ObjectId('6391a44afc6995815c1f4036'), 'Serial No': '9995', 'GRE Score': '337', 'TOEFL Score': '118', 'University Rating': '4', 'SOP': '4.5', 'LOR': '4.5', 'CGPA': '9.65', 'Research': '1', 'Chance of Admit': '0.92'}\n",
      "{'_id': ObjectId('6391a44afc6995815c1f4037'), 'Serial No': '1000', 'GRE Score': '310', 'TOEFL Score': '100', 'University Rating': '2', 'SOP': '4.2', 'LOR': '3.5', 'CGPA': '9.00', 'Research': '0', 'Chance of Admit': '0.70'}\n"
     ]
    }
   ],
   "source": [
    "for i in res:\n",
    "    print(i)"
   ]
  },
  {
   "cell_type": "code",
   "execution_count": 37,
   "metadata": {},
   "outputs": [
    {
     "ename": "InvalidOperation",
     "evalue": "cannot set options after executing query",
     "output_type": "error",
     "traceback": [
      "\u001b[0;31m---------------------------------------------------------------------------\u001b[0m",
      "\u001b[0;31mInvalidOperation\u001b[0m                          Traceback (most recent call last)",
      "Cell \u001b[0;32mIn[37], line 1\u001b[0m\n\u001b[0;32m----> 1\u001b[0m \u001b[43mres\u001b[49m\u001b[43m[\u001b[49m\u001b[38;5;241;43m2\u001b[39;49m\u001b[43m]\u001b[49m\n",
      "File \u001b[0;32m~/.local/lib/python3.8/site-packages/pymongo/cursor.py:724\u001b[0m, in \u001b[0;36mCursor.__getitem__\u001b[0;34m(self, index)\u001b[0m\n\u001b[1;32m    683\u001b[0m \u001b[39mdef\u001b[39;00m \u001b[39m__getitem__\u001b[39m(\u001b[39mself\u001b[39m, index):\n\u001b[1;32m    684\u001b[0m     \u001b[39m\"\"\"Get a single document or a slice of documents from this cursor.\u001b[39;00m\n\u001b[1;32m    685\u001b[0m \n\u001b[1;32m    686\u001b[0m \u001b[39m    .. warning:: A :class:`~Cursor` is not a Python :class:`list`. Each\u001b[39;00m\n\u001b[0;32m   (...)\u001b[0m\n\u001b[1;32m    722\u001b[0m \u001b[39m      - `index`: An integer or slice index to be applied to this cursor\u001b[39;00m\n\u001b[1;32m    723\u001b[0m \u001b[39m    \"\"\"\u001b[39;00m\n\u001b[0;32m--> 724\u001b[0m     \u001b[39mself\u001b[39;49m\u001b[39m.\u001b[39;49m__check_okay_to_chain()\n\u001b[1;32m    725\u001b[0m     \u001b[39mself\u001b[39m\u001b[39m.\u001b[39m__empty \u001b[39m=\u001b[39m \u001b[39mFalse\u001b[39;00m\n\u001b[1;32m    726\u001b[0m     \u001b[39mif\u001b[39;00m \u001b[39misinstance\u001b[39m(index, \u001b[39mslice\u001b[39m):\n",
      "File \u001b[0;32m~/.local/lib/python3.8/site-packages/pymongo/cursor.py:496\u001b[0m, in \u001b[0;36mCursor.__check_okay_to_chain\u001b[0;34m(self)\u001b[0m\n\u001b[1;32m    494\u001b[0m \u001b[39m\"\"\"Check if it is okay to chain more options onto this cursor.\"\"\"\u001b[39;00m\n\u001b[1;32m    495\u001b[0m \u001b[39mif\u001b[39;00m \u001b[39mself\u001b[39m\u001b[39m.\u001b[39m__retrieved \u001b[39mor\u001b[39;00m \u001b[39mself\u001b[39m\u001b[39m.\u001b[39m__id \u001b[39mis\u001b[39;00m \u001b[39mnot\u001b[39;00m \u001b[39mNone\u001b[39;00m:\n\u001b[0;32m--> 496\u001b[0m     \u001b[39mraise\u001b[39;00m InvalidOperation(\u001b[39m\"\u001b[39m\u001b[39mcannot set options after executing query\u001b[39m\u001b[39m\"\u001b[39m)\n",
      "\u001b[0;31mInvalidOperation\u001b[0m: cannot set options after executing query"
     ]
    }
   ],
   "source": [
    "res[2]"
   ]
  },
  {
   "cell_type": "code",
   "execution_count": 38,
   "metadata": {},
   "outputs": [],
   "source": [
    "result = collection1.find({})"
   ]
  },
  {
   "cell_type": "code",
   "execution_count": 39,
   "metadata": {},
   "outputs": [
    {
     "data": {
      "text/plain": [
       "{'_id': ObjectId('6391a44afc6995815c1f4036'),\n",
       " 'Serial No': '9995',\n",
       " 'GRE Score': '337',\n",
       " 'TOEFL Score': '118',\n",
       " 'University Rating': '4',\n",
       " 'SOP': '4.5',\n",
       " 'LOR': '4.5',\n",
       " 'CGPA': '9.65',\n",
       " 'Research': '1',\n",
       " 'Chance of Admit': '0.92'}"
      ]
     },
     "execution_count": 39,
     "metadata": {},
     "output_type": "execute_result"
    }
   ],
   "source": [
    "result[2]"
   ]
  },
  {
   "cell_type": "code",
   "execution_count": 55,
   "metadata": {},
   "outputs": [],
   "source": [
    "result2 = collection1.find({}).limit(3)"
   ]
  },
  {
   "cell_type": "code",
   "execution_count": 57,
   "metadata": {},
   "outputs": [
    {
     "name": "stdout",
     "output_type": "stream",
     "text": [
      "{'_id': ObjectId('6391a26bfc6995815c1f4034'), 'name': 'jaya', 'course_name': 'big-data-bootcamp', 'designation': 'data engineer', 'salary': '50k'}\n",
      "{'_id': ObjectId('6391a334fc6995815c1f4035'), 'Serial No': '9998', 'GRE Score': '337', 'TOEFL Score': '118', 'University Rating': '4', 'SOP': '4.5', 'LOR': '4.5', 'CGPA': '9.65', 'Research': '1', 'Chance of Admit': '0.92'}\n",
      "{'_id': ObjectId('6391a44afc6995815c1f4036'), 'Serial No': '9995', 'GRE Score': '337', 'TOEFL Score': '118', 'University Rating': '4', 'SOP': '4.5', 'LOR': '4.5', 'CGPA': '9.65', 'Research': '1', 'Chance of Admit': '0.92'}\n"
     ]
    }
   ],
   "source": [
    "for i in result2:\n",
    "    print(i)"
   ]
  },
  {
   "cell_type": "code",
   "execution_count": 56,
   "metadata": {},
   "outputs": [
    {
     "data": {
      "text/plain": [
       "{'_id': ObjectId('6391a44afc6995815c1f4036'),\n",
       " 'Serial No': '9995',\n",
       " 'GRE Score': '337',\n",
       " 'TOEFL Score': '118',\n",
       " 'University Rating': '4',\n",
       " 'SOP': '4.5',\n",
       " 'LOR': '4.5',\n",
       " 'CGPA': '9.65',\n",
       " 'Research': '1',\n",
       " 'Chance of Admit': '0.92'}"
      ]
     },
     "execution_count": 56,
     "metadata": {},
     "output_type": "execute_result"
    }
   ],
   "source": [
    "result2[2]"
   ]
  },
  {
   "cell_type": "code",
   "execution_count": 60,
   "metadata": {},
   "outputs": [],
   "source": [
    "my_rows = [\n",
    "{'Serial No': '9997',\n",
    " 'GRE Score': '337',\n",
    " 'TOEFL Score': '118',\n",
    " 'University Rating': '4',\n",
    " 'SOP': '4.5',\n",
    " 'LOR': '4.5',\n",
    " 'CGPA': '9.65',\n",
    " 'Research': '1',\n",
    " 'Chance of Admit': '0.92'},\n",
    "  {\n",
    "    'Serial No': '9996',\n",
    " 'GRE Score': '336',\n",
    " 'TOEFL Score': '118',\n",
    " 'University Rating': '4',\n",
    " 'SOP': '4.5',\n",
    " 'LOR': '4.5',\n",
    " 'CGPA': '9.6',\n",
    " 'Research': '0',\n",
    " 'Chance of Admit': '0.92'},\n",
    " {\n",
    "    'Serial No': '9995',\n",
    " 'GRE Score': '340',\n",
    " 'TOEFL Score': '118',\n",
    " 'University Rating': '4',\n",
    " 'SOP': '4.5',\n",
    " 'LOR': '4.5',\n",
    " 'CGPA': '9.5',\n",
    " 'Research': '1',\n",
    " 'Chance of Admit': '0.92'},\n",
    "  {\n",
    "    'Serial No': '9994',\n",
    " 'GRE Score': '334',\n",
    " 'TOEFL Score': '119',\n",
    " 'University Rating': '4',\n",
    " 'SOP': '4.5',\n",
    " 'LOR': '4.5',\n",
    " 'CGPA': '9.4',\n",
    " 'Research': '1',\n",
    " 'Chance of Admit': '0.92'},\n",
    "  {\n",
    "    'Serial No': '9993',\n",
    " 'GRE Score': '317',\n",
    " 'TOEFL Score': '118',\n",
    " 'University Rating': '4',\n",
    " 'SOP': '4.5',\n",
    " 'LOR': '4.5',\n",
    " 'CGPA': '9.65',\n",
    " 'Research': '1',\n",
    " 'Chance of Admit': '0.92'}\n",
    "\n",
    "]"
   ]
  },
  {
   "cell_type": "code",
   "execution_count": 61,
   "metadata": {},
   "outputs": [
    {
     "data": {
      "text/plain": [
       "<pymongo.results.InsertManyResult at 0x7fa0a5508d30>"
      ]
     },
     "execution_count": 61,
     "metadata": {},
     "output_type": "execute_result"
    }
   ],
   "source": [
    "collection2.insert_many(my_rows)"
   ]
  },
  {
   "cell_type": "code",
   "execution_count": 62,
   "metadata": {},
   "outputs": [],
   "source": [
    "result = collection2.find()"
   ]
  },
  {
   "cell_type": "code",
   "execution_count": 63,
   "metadata": {},
   "outputs": [
    {
     "name": "stdout",
     "output_type": "stream",
     "text": [
      "{'_id': ObjectId('6391a7bffc6995815c1f4038'), 'Serial No': '9997', 'GRE Score': '337', 'TOEFL Score': '118', 'University Rating': '4', 'SOP': '4.5', 'LOR': '4.5', 'CGPA': '9.65', 'Research': '1', 'Chance of Admit': '0.92'}\n",
      "{'_id': ObjectId('6391a7bffc6995815c1f4039'), 'Serial No': '9996', 'GRE Score': '336', 'TOEFL Score': '118', 'University Rating': '4', 'SOP': '4.5', 'LOR': '4.5', 'CGPA': '9.6', 'Research': '0', 'Chance of Admit': '0.92'}\n",
      "{'_id': ObjectId('6391a7bffc6995815c1f403a'), 'Serial No': '9995', 'GRE Score': '340', 'TOEFL Score': '118', 'University Rating': '4', 'SOP': '4.5', 'LOR': '4.5', 'CGPA': '9.5', 'Research': '1', 'Chance of Admit': '0.92'}\n",
      "{'_id': ObjectId('6391a7bffc6995815c1f403b'), 'Serial No': '9994', 'GRE Score': '334', 'TOEFL Score': '119', 'University Rating': '4', 'SOP': '4.5', 'LOR': '4.5', 'CGPA': '9.4', 'Research': '1', 'Chance of Admit': '0.92'}\n",
      "{'_id': ObjectId('6391a7bffc6995815c1f403c'), 'Serial No': '9993', 'GRE Score': '317', 'TOEFL Score': '118', 'University Rating': '4', 'SOP': '4.5', 'LOR': '4.5', 'CGPA': '9.65', 'Research': '1', 'Chance of Admit': '0.92'}\n"
     ]
    }
   ],
   "source": [
    "for i in result:\n",
    "    print(i)"
   ]
  },
  {
   "cell_type": "code",
   "execution_count": 64,
   "metadata": {},
   "outputs": [],
   "source": [
    "result = collection1.find({}, {\"GRE Score\",\"TOEFL Score\"})\n"
   ]
  },
  {
   "cell_type": "code",
   "execution_count": 65,
   "metadata": {},
   "outputs": [
    {
     "name": "stdout",
     "output_type": "stream",
     "text": [
      "{'_id': ObjectId('6391a26bfc6995815c1f4034')}\n",
      "{'_id': ObjectId('6391a334fc6995815c1f4035'), 'GRE Score': '337', 'TOEFL Score': '118'}\n",
      "{'_id': ObjectId('6391a44afc6995815c1f4036'), 'GRE Score': '337', 'TOEFL Score': '118'}\n",
      "{'_id': ObjectId('6391a44afc6995815c1f4037'), 'GRE Score': '310', 'TOEFL Score': '100'}\n"
     ]
    }
   ],
   "source": [
    "for i in result:\n",
    "    print(i)"
   ]
  },
  {
   "cell_type": "code",
   "execution_count": 73,
   "metadata": {},
   "outputs": [],
   "source": [
    "my_query = collection2.find({\"gre score\":\"337\"})"
   ]
  },
  {
   "cell_type": "code",
   "execution_count": 74,
   "metadata": {},
   "outputs": [],
   "source": [
    "for i in my_query:\n",
    "    print(i)"
   ]
  },
  {
   "cell_type": "code",
   "execution_count": 78,
   "metadata": {},
   "outputs": [],
   "source": [
    "query2 = {\"gre score\" :{\"$gt\":\"330\"}}"
   ]
  },
  {
   "cell_type": "code",
   "execution_count": 79,
   "metadata": {},
   "outputs": [],
   "source": [
    "result_gt = collection2.find(query2)"
   ]
  },
  {
   "cell_type": "code",
   "execution_count": 80,
   "metadata": {},
   "outputs": [],
   "source": [
    "for i in result_gt:\n",
    "    print(i)"
   ]
  },
  {
   "cell_type": "code",
   "execution_count": 81,
   "metadata": {},
   "outputs": [],
   "source": [
    "my_rows = [\n",
    "{'Serial No': '9997',\n",
    " 'GRE Score': '337',\n",
    " 'TOEFL Score': '118',\n",
    " 'University Rating': '4',\n",
    " 'SOP': '4.5',\n",
    " 'LOR': '4.5',\n",
    " 'CGPA': '9.65',\n",
    " 'Research': '1',\n",
    " 'Chance of Admit': '0.92'},\n",
    "  {\n",
    "    'Serial No': '9996',\n",
    " 'GRE Score': '336',\n",
    " 'TOEFL Score': '118',\n",
    " 'University Rating': '4',\n",
    " 'SOP': '4.5',\n",
    " 'LOR': '4.5',\n",
    " 'CGPA': '9.6',\n",
    " 'Research': '0',\n",
    " 'Chance of Admit': '0.92'},\n",
    " {\n",
    "    'Serial No': '9995',\n",
    " 'GRE Score': '340',\n",
    " 'TOEFL Score': '118',\n",
    " 'University Rating': '4',\n",
    " 'SOP': '4.5',\n",
    " 'LOR': '4.5',\n",
    " 'CGPA': '9.5',\n",
    " 'Research': '1',\n",
    " 'Chance of Admit': '0.92'},\n",
    "  {\n",
    "    'Serial No': '9994',\n",
    " 'GRE Score': '334',\n",
    " 'TOEFL Score': '119',\n",
    " 'University Rating': '4',\n",
    " 'SOP': '4.5',\n",
    " 'LOR': '4.5',\n",
    " 'CGPA': '9.4',\n",
    " 'Research': '1',\n",
    " 'Chance of Admit': '0.92'},\n",
    "  {\n",
    "    'Serial No': '9993',\n",
    " 'GRE Score': '317',\n",
    " 'TOEFL Score': '118',\n",
    " 'University Rating': '4',\n",
    " 'SOP': '4.5',\n",
    " 'LOR': '4.5',\n",
    " 'CGPA': '9.65',\n",
    " 'Research': '1',\n",
    " 'Chance of Admit': '0.92'}\n",
    "\n",
    "]"
   ]
  },
  {
   "cell_type": "code",
   "execution_count": 83,
   "metadata": {},
   "outputs": [
    {
     "data": {
      "text/plain": [
       "<pymongo.results.InsertManyResult at 0x7fa0a5507730>"
      ]
     },
     "execution_count": 83,
     "metadata": {},
     "output_type": "execute_result"
    }
   ],
   "source": [
    "collection1.insert_many(my_rows)"
   ]
  },
  {
   "cell_type": "code",
   "execution_count": 84,
   "metadata": {},
   "outputs": [],
   "source": [
    "result = collection1.find()"
   ]
  },
  {
   "cell_type": "code",
   "execution_count": 85,
   "metadata": {},
   "outputs": [
    {
     "name": "stdout",
     "output_type": "stream",
     "text": [
      "{'_id': ObjectId('6391a26bfc6995815c1f4034'), 'name': 'jaya', 'course_name': 'big-data-bootcamp', 'designation': 'data engineer', 'salary': '50k'}\n",
      "{'_id': ObjectId('6391a334fc6995815c1f4035'), 'Serial No': '9998', 'GRE Score': '337', 'TOEFL Score': '118', 'University Rating': '4', 'SOP': '4.5', 'LOR': '4.5', 'CGPA': '9.65', 'Research': '1', 'Chance of Admit': '0.92'}\n",
      "{'_id': ObjectId('6391a44afc6995815c1f4036'), 'Serial No': '9995', 'GRE Score': '337', 'TOEFL Score': '118', 'University Rating': '4', 'SOP': '4.5', 'LOR': '4.5', 'CGPA': '9.65', 'Research': '1', 'Chance of Admit': '0.92'}\n",
      "{'_id': ObjectId('6391a44afc6995815c1f4037'), 'Serial No': '1000', 'GRE Score': '310', 'TOEFL Score': '100', 'University Rating': '2', 'SOP': '4.2', 'LOR': '3.5', 'CGPA': '9.00', 'Research': '0', 'Chance of Admit': '0.70'}\n",
      "{'_id': ObjectId('6391ac34fc6995815c1f403d'), 'Serial No': '9997', 'GRE Score': '337', 'TOEFL Score': '118', 'University Rating': '4', 'SOP': '4.5', 'LOR': '4.5', 'CGPA': '9.65', 'Research': '1', 'Chance of Admit': '0.92'}\n",
      "{'_id': ObjectId('6391ac34fc6995815c1f403e'), 'Serial No': '9996', 'GRE Score': '336', 'TOEFL Score': '118', 'University Rating': '4', 'SOP': '4.5', 'LOR': '4.5', 'CGPA': '9.6', 'Research': '0', 'Chance of Admit': '0.92'}\n",
      "{'_id': ObjectId('6391ac34fc6995815c1f403f'), 'Serial No': '9995', 'GRE Score': '340', 'TOEFL Score': '118', 'University Rating': '4', 'SOP': '4.5', 'LOR': '4.5', 'CGPA': '9.5', 'Research': '1', 'Chance of Admit': '0.92'}\n",
      "{'_id': ObjectId('6391ac34fc6995815c1f4040'), 'Serial No': '9994', 'GRE Score': '334', 'TOEFL Score': '119', 'University Rating': '4', 'SOP': '4.5', 'LOR': '4.5', 'CGPA': '9.4', 'Research': '1', 'Chance of Admit': '0.92'}\n",
      "{'_id': ObjectId('6391ac34fc6995815c1f4041'), 'Serial No': '9993', 'GRE Score': '317', 'TOEFL Score': '118', 'University Rating': '4', 'SOP': '4.5', 'LOR': '4.5', 'CGPA': '9.65', 'Research': '1', 'Chance of Admit': '0.92'}\n"
     ]
    }
   ],
   "source": [
    "for i in result:\n",
    "    print(i)"
   ]
  },
  {
   "cell_type": "code",
   "execution_count": 93,
   "metadata": {},
   "outputs": [],
   "source": [
    "query = {\"gre score\":\"337\"}"
   ]
  },
  {
   "cell_type": "code",
   "execution_count": 96,
   "metadata": {},
   "outputs": [],
   "source": [
    "res1 = collection1.find(query)"
   ]
  },
  {
   "cell_type": "code",
   "execution_count": 97,
   "metadata": {},
   "outputs": [],
   "source": [
    "for i in res1:\n",
    "    print(i)"
   ]
  },
  {
   "cell_type": "code",
   "execution_count": 110,
   "metadata": {},
   "outputs": [],
   "source": [
    "query2 = {\"GRE Score\":{\"$gt\":\"335\"}}"
   ]
  },
  {
   "cell_type": "code",
   "execution_count": 111,
   "metadata": {},
   "outputs": [],
   "source": [
    "res2 = collection1.find(query2)"
   ]
  },
  {
   "cell_type": "code",
   "execution_count": 112,
   "metadata": {},
   "outputs": [
    {
     "name": "stdout",
     "output_type": "stream",
     "text": [
      "{'_id': ObjectId('6391a334fc6995815c1f4035'), 'Serial No': '9998', 'GRE Score': '337', 'TOEFL Score': '118', 'University Rating': '4', 'SOP': '4.5', 'LOR': '4.5', 'CGPA': '9.65', 'Research': '1', 'Chance of Admit': '0.92'}\n",
      "{'_id': ObjectId('6391a44afc6995815c1f4036'), 'Serial No': '9995', 'GRE Score': '337', 'TOEFL Score': '118', 'University Rating': '4', 'SOP': '4.5', 'LOR': '4.5', 'CGPA': '9.65', 'Research': '1', 'Chance of Admit': '0.92'}\n",
      "{'_id': ObjectId('6391ac34fc6995815c1f403d'), 'Serial No': '9997', 'GRE Score': '337', 'TOEFL Score': '118', 'University Rating': '4', 'SOP': '4.5', 'LOR': '4.5', 'CGPA': '9.65', 'Research': '1', 'Chance of Admit': '0.92'}\n",
      "{'_id': ObjectId('6391ac34fc6995815c1f403e'), 'Serial No': '9996', 'GRE Score': '336', 'TOEFL Score': '118', 'University Rating': '4', 'SOP': '4.5', 'LOR': '4.5', 'CGPA': '9.6', 'Research': '0', 'Chance of Admit': '0.92'}\n",
      "{'_id': ObjectId('6391ac34fc6995815c1f403f'), 'Serial No': '9995', 'GRE Score': '340', 'TOEFL Score': '118', 'University Rating': '4', 'SOP': '4.5', 'LOR': '4.5', 'CGPA': '9.5', 'Research': '1', 'Chance of Admit': '0.92'}\n"
     ]
    }
   ],
   "source": [
    "for i in res2:\n",
    "    print(i)"
   ]
  },
  {
   "cell_type": "code",
   "execution_count": 107,
   "metadata": {},
   "outputs": [],
   "source": [
    "query3 = {\"GRE Score\":{\"$lt\":\"330\"}}"
   ]
  },
  {
   "cell_type": "code",
   "execution_count": 108,
   "metadata": {},
   "outputs": [],
   "source": [
    "res3 = collection1.find(query3)"
   ]
  },
  {
   "cell_type": "code",
   "execution_count": 109,
   "metadata": {},
   "outputs": [
    {
     "name": "stdout",
     "output_type": "stream",
     "text": [
      "{'_id': ObjectId('6391a44afc6995815c1f4037'), 'Serial No': '1000', 'GRE Score': '310', 'TOEFL Score': '100', 'University Rating': '2', 'SOP': '4.2', 'LOR': '3.5', 'CGPA': '9.00', 'Research': '0', 'Chance of Admit': '0.70'}\n",
      "{'_id': ObjectId('6391ac34fc6995815c1f4041'), 'Serial No': '9993', 'GRE Score': '317', 'TOEFL Score': '118', 'University Rating': '4', 'SOP': '4.5', 'LOR': '4.5', 'CGPA': '9.65', 'Research': '1', 'Chance of Admit': '0.92'}\n"
     ]
    }
   ],
   "source": [
    "for i in res3:\n",
    "    print(i)"
   ]
  },
  {
   "cell_type": "code",
   "execution_count": 113,
   "metadata": {},
   "outputs": [],
   "source": [
    "result_sort = collection1.find().sort(\"GRE Score\")"
   ]
  },
  {
   "cell_type": "code",
   "execution_count": 114,
   "metadata": {},
   "outputs": [
    {
     "name": "stdout",
     "output_type": "stream",
     "text": [
      "{'_id': ObjectId('6391a26bfc6995815c1f4034'), 'name': 'jaya', 'course_name': 'big-data-bootcamp', 'designation': 'data engineer', 'salary': '50k'}\n",
      "{'_id': ObjectId('6391a44afc6995815c1f4037'), 'Serial No': '1000', 'GRE Score': '310', 'TOEFL Score': '100', 'University Rating': '2', 'SOP': '4.2', 'LOR': '3.5', 'CGPA': '9.00', 'Research': '0', 'Chance of Admit': '0.70'}\n",
      "{'_id': ObjectId('6391ac34fc6995815c1f4041'), 'Serial No': '9993', 'GRE Score': '317', 'TOEFL Score': '118', 'University Rating': '4', 'SOP': '4.5', 'LOR': '4.5', 'CGPA': '9.65', 'Research': '1', 'Chance of Admit': '0.92'}\n",
      "{'_id': ObjectId('6391ac34fc6995815c1f4040'), 'Serial No': '9994', 'GRE Score': '334', 'TOEFL Score': '119', 'University Rating': '4', 'SOP': '4.5', 'LOR': '4.5', 'CGPA': '9.4', 'Research': '1', 'Chance of Admit': '0.92'}\n",
      "{'_id': ObjectId('6391ac34fc6995815c1f403e'), 'Serial No': '9996', 'GRE Score': '336', 'TOEFL Score': '118', 'University Rating': '4', 'SOP': '4.5', 'LOR': '4.5', 'CGPA': '9.6', 'Research': '0', 'Chance of Admit': '0.92'}\n",
      "{'_id': ObjectId('6391a334fc6995815c1f4035'), 'Serial No': '9998', 'GRE Score': '337', 'TOEFL Score': '118', 'University Rating': '4', 'SOP': '4.5', 'LOR': '4.5', 'CGPA': '9.65', 'Research': '1', 'Chance of Admit': '0.92'}\n",
      "{'_id': ObjectId('6391a44afc6995815c1f4036'), 'Serial No': '9995', 'GRE Score': '337', 'TOEFL Score': '118', 'University Rating': '4', 'SOP': '4.5', 'LOR': '4.5', 'CGPA': '9.65', 'Research': '1', 'Chance of Admit': '0.92'}\n",
      "{'_id': ObjectId('6391ac34fc6995815c1f403d'), 'Serial No': '9997', 'GRE Score': '337', 'TOEFL Score': '118', 'University Rating': '4', 'SOP': '4.5', 'LOR': '4.5', 'CGPA': '9.65', 'Research': '1', 'Chance of Admit': '0.92'}\n",
      "{'_id': ObjectId('6391ac34fc6995815c1f403f'), 'Serial No': '9995', 'GRE Score': '340', 'TOEFL Score': '118', 'University Rating': '4', 'SOP': '4.5', 'LOR': '4.5', 'CGPA': '9.5', 'Research': '1', 'Chance of Admit': '0.92'}\n"
     ]
    }
   ],
   "source": [
    "for i in result_sort:\n",
    "    print(i)"
   ]
  },
  {
   "cell_type": "code",
   "execution_count": 115,
   "metadata": {},
   "outputs": [],
   "source": [
    "result_sort_desc = collection1.find().sort(\"GRE Score\", -1)"
   ]
  },
  {
   "cell_type": "code",
   "execution_count": 116,
   "metadata": {},
   "outputs": [
    {
     "name": "stdout",
     "output_type": "stream",
     "text": [
      "{'_id': ObjectId('6391ac34fc6995815c1f403f'), 'Serial No': '9995', 'GRE Score': '340', 'TOEFL Score': '118', 'University Rating': '4', 'SOP': '4.5', 'LOR': '4.5', 'CGPA': '9.5', 'Research': '1', 'Chance of Admit': '0.92'}\n",
      "{'_id': ObjectId('6391a334fc6995815c1f4035'), 'Serial No': '9998', 'GRE Score': '337', 'TOEFL Score': '118', 'University Rating': '4', 'SOP': '4.5', 'LOR': '4.5', 'CGPA': '9.65', 'Research': '1', 'Chance of Admit': '0.92'}\n",
      "{'_id': ObjectId('6391a44afc6995815c1f4036'), 'Serial No': '9995', 'GRE Score': '337', 'TOEFL Score': '118', 'University Rating': '4', 'SOP': '4.5', 'LOR': '4.5', 'CGPA': '9.65', 'Research': '1', 'Chance of Admit': '0.92'}\n",
      "{'_id': ObjectId('6391ac34fc6995815c1f403d'), 'Serial No': '9997', 'GRE Score': '337', 'TOEFL Score': '118', 'University Rating': '4', 'SOP': '4.5', 'LOR': '4.5', 'CGPA': '9.65', 'Research': '1', 'Chance of Admit': '0.92'}\n",
      "{'_id': ObjectId('6391ac34fc6995815c1f403e'), 'Serial No': '9996', 'GRE Score': '336', 'TOEFL Score': '118', 'University Rating': '4', 'SOP': '4.5', 'LOR': '4.5', 'CGPA': '9.6', 'Research': '0', 'Chance of Admit': '0.92'}\n",
      "{'_id': ObjectId('6391ac34fc6995815c1f4040'), 'Serial No': '9994', 'GRE Score': '334', 'TOEFL Score': '119', 'University Rating': '4', 'SOP': '4.5', 'LOR': '4.5', 'CGPA': '9.4', 'Research': '1', 'Chance of Admit': '0.92'}\n",
      "{'_id': ObjectId('6391ac34fc6995815c1f4041'), 'Serial No': '9993', 'GRE Score': '317', 'TOEFL Score': '118', 'University Rating': '4', 'SOP': '4.5', 'LOR': '4.5', 'CGPA': '9.65', 'Research': '1', 'Chance of Admit': '0.92'}\n",
      "{'_id': ObjectId('6391a44afc6995815c1f4037'), 'Serial No': '1000', 'GRE Score': '310', 'TOEFL Score': '100', 'University Rating': '2', 'SOP': '4.2', 'LOR': '3.5', 'CGPA': '9.00', 'Research': '0', 'Chance of Admit': '0.70'}\n",
      "{'_id': ObjectId('6391a26bfc6995815c1f4034'), 'name': 'jaya', 'course_name': 'big-data-bootcamp', 'designation': 'data engineer', 'salary': '50k'}\n"
     ]
    }
   ],
   "source": [
    "for i in result_sort_desc:\n",
    "    print(i)"
   ]
  },
  {
   "cell_type": "code",
   "execution_count": 117,
   "metadata": {},
   "outputs": [],
   "source": [
    "query3 = {\"GRE Score\":\"340\"}"
   ]
  },
  {
   "cell_type": "code",
   "execution_count": 118,
   "metadata": {},
   "outputs": [],
   "source": [
    "res = collection1.delete_one(query3)"
   ]
  },
  {
   "cell_type": "code",
   "execution_count": 120,
   "metadata": {},
   "outputs": [
    {
     "data": {
      "text/plain": [
       "1"
      ]
     },
     "execution_count": 120,
     "metadata": {},
     "output_type": "execute_result"
    }
   ],
   "source": [
    "res.deleted_count"
   ]
  },
  {
   "cell_type": "code",
   "execution_count": 123,
   "metadata": {},
   "outputs": [
    {
     "data": {
      "text/plain": [
       "<bound method Collection.count_documents of Collection(Database(MongoClient(host=['localhost:27017'], document_class=dict, tz_aware=False, connect=True), 'ineuron'), 'Bigdata1')>"
      ]
     },
     "execution_count": 123,
     "metadata": {},
     "output_type": "execute_result"
    }
   ],
   "source": [
    "collection1.count_documents"
   ]
  },
  {
   "cell_type": "code",
   "execution_count": 124,
   "metadata": {},
   "outputs": [],
   "source": [
    "old_record = {\"GRE Score\":\"337\"}\n",
    "new_record = {\"$set\":{\"GRE Score\": \"320\"}}"
   ]
  },
  {
   "cell_type": "code",
   "execution_count": 125,
   "metadata": {},
   "outputs": [],
   "source": [
    "res = collection1.update_many(old_record,new_record)"
   ]
  },
  {
   "cell_type": "code",
   "execution_count": 126,
   "metadata": {},
   "outputs": [
    {
     "data": {
      "text/plain": [
       "3"
      ]
     },
     "execution_count": 126,
     "metadata": {},
     "output_type": "execute_result"
    }
   ],
   "source": [
    "res.modified_count"
   ]
  },
  {
   "cell_type": "code",
   "execution_count": 128,
   "metadata": {},
   "outputs": [
    {
     "data": {
      "text/plain": [
       "{'n': 3, 'nModified': 3, 'ok': 1.0, 'updatedExisting': True}"
      ]
     },
     "execution_count": 128,
     "metadata": {},
     "output_type": "execute_result"
    }
   ],
   "source": [
    "res.raw_result"
   ]
  },
  {
   "cell_type": "code",
   "execution_count": 129,
   "metadata": {},
   "outputs": [
    {
     "data": {
      "text/plain": [
       "3"
      ]
     },
     "execution_count": 129,
     "metadata": {},
     "output_type": "execute_result"
    }
   ],
   "source": [
    "res.matched_count"
   ]
  },
  {
   "cell_type": "code",
   "execution_count": null,
   "metadata": {},
   "outputs": [],
   "source": []
  },
  {
   "cell_type": "code",
   "execution_count": null,
   "metadata": {},
   "outputs": [],
   "source": []
  },
  {
   "cell_type": "code",
   "execution_count": null,
   "metadata": {},
   "outputs": [],
   "source": []
  }
 ],
 "metadata": {
  "kernelspec": {
   "display_name": "Python 3.8.10 64-bit",
   "language": "python",
   "name": "python3"
  },
  "language_info": {
   "codemirror_mode": {
    "name": "ipython",
    "version": 3
   },
   "file_extension": ".py",
   "mimetype": "text/x-python",
   "name": "python",
   "nbconvert_exporter": "python",
   "pygments_lexer": "ipython3",
   "version": "3.8.10"
  },
  "orig_nbformat": 4,
  "vscode": {
   "interpreter": {
    "hash": "e7370f93d1d0cde622a1f8e1c04877d8463912d04d973331ad4851f04de6915a"
   }
  }
 },
 "nbformat": 4,
 "nbformat_minor": 2
}
